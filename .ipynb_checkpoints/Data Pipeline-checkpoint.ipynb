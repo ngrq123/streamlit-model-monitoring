{
 "cells": [
  {
   "cell_type": "code",
   "execution_count": null,
   "metadata": {
    "ExecuteTime": {
     "end_time": "2021-05-17T12:46:10.733854Z",
     "start_time": "2021-05-17T12:46:08.524865Z"
    }
   },
   "outputs": [],
   "source": [
    "import numpy as np\n",
    "import pandas as pd\n",
    "from sklearn.ensemble import RandomForestClassifier\n",
    "from sklearn.linear_model import LogisticRegression"
   ]
  },
  {
   "cell_type": "code",
   "execution_count": null,
   "metadata": {
    "ExecuteTime": {
     "end_time": "2021-05-17T12:46:10.781845Z",
     "start_time": "2021-05-17T12:46:10.735847Z"
    }
   },
   "outputs": [],
   "source": [
    "titanic_df = pd.read_csv('data/titanic_train.csv')\n",
    "titanic_df.head()"
   ]
  },
  {
   "cell_type": "code",
   "execution_count": null,
   "metadata": {
    "ExecuteTime": {
     "end_time": "2021-05-17T12:46:11.114502Z",
     "start_time": "2021-05-17T12:46:10.784849Z"
    }
   },
   "outputs": [],
   "source": [
    "syntanic_df = pd.read_csv('data/syntanic_train.csv')\n",
    "syntanic_df.head()"
   ]
  },
  {
   "cell_type": "code",
   "execution_count": null,
   "metadata": {
    "ExecuteTime": {
     "end_time": "2021-05-17T12:46:11.145505Z",
     "start_time": "2021-05-17T12:46:11.116504Z"
    }
   },
   "outputs": [],
   "source": [
    "titanic_df.isnull().sum()"
   ]
  },
  {
   "cell_type": "code",
   "execution_count": null,
   "metadata": {
    "ExecuteTime": {
     "end_time": "2021-05-17T12:46:11.255957Z",
     "start_time": "2021-05-17T12:46:11.150522Z"
    }
   },
   "outputs": [],
   "source": [
    "def transform(df, train_df=None):\n",
    "    df['family_members'] = df['SibSp'] + df['Parch']\n",
    "    # Pclass\n",
    "    dummy_df = pd.get_dummies(df['Pclass'], prefix='Pclass', prefix_sep='_')\n",
    "    df = pd.concat([df, dummy_df], axis='columns')\n",
    "    # Sex\n",
    "    df['Sex'] = df['Sex'].apply(lambda sex: sex.lower() == 'male').astype('int')\n",
    "    # Age\n",
    "    mean_age = df['Age'].mean()\n",
    "    if train_df is not None:\n",
    "        mean_age = train_df['Age'].mean()\n",
    "    df['Age'] = df['Age'].fillna(mean_age)\n",
    "    df['Age'] = df['Age'].astype('int')\n",
    "    # Cabin\n",
    "    df['Cabin'] = df['Cabin'].apply(lambda cabin: cabin[0].upper() if (type(cabin) == str) else np.nan)\n",
    "    most_common_cabin = df['Cabin'].value_counts().index[0]\n",
    "    if train_df is not None:\n",
    "        train_df['Cabin'] = train_df['Cabin'].apply(lambda cabin: cabin[0].upper() if (type(cabin) == str) else np.nan)\n",
    "        most_common_cabin = train_df['Cabin'].value_counts().index[0]\n",
    "    df['Cabin'] = df['Cabin'].fillna(most_common_cabin)\n",
    "    dummy_df = pd.get_dummies(df['Cabin'], prefix='Cabin', prefix_sep='_')\n",
    "    df = pd.concat([df, dummy_df], axis='columns')\n",
    "    # Embarked\n",
    "    most_common_embarkment = df['Embarked'].value_counts().index[0]\n",
    "    if train_df is not None:\n",
    "        most_common_embarkment = train_df['Embarked'].value_counts().index[0]\n",
    "    df['Embarked'] = df['Embarked'].fillna(most_common_embarkment)\n",
    "    dummy_df = pd.get_dummies(df['Embarked'], prefix='Embarked', prefix_sep='_')\n",
    "    df = pd.concat([df, dummy_df], axis='columns')\n",
    "    # Fare\n",
    "    mean_fare = df['Fare'].mean()\n",
    "    if train_df is not None:\n",
    "        mean_fare = train_df['Fare'].mean()\n",
    "    df['Fare'] = df['Fare'].fillna(mean_fare)\n",
    "    # Drop columns\n",
    "    df = df.drop(['PassengerId', 'Name', 'Ticket', 'SibSp', 'Parch', 'Pclass', 'Cabin', 'Embarked'], axis='columns')\n",
    "    return df"
   ]
  },
  {
   "cell_type": "code",
   "execution_count": null,
   "metadata": {
    "ExecuteTime": {
     "end_time": "2021-05-17T12:46:11.429053Z",
     "start_time": "2021-05-17T12:46:11.258890Z"
    }
   },
   "outputs": [],
   "source": [
    "train_df = transform(titanic_df)\n",
    "train_df.head()"
   ]
  },
  {
   "cell_type": "code",
   "execution_count": null,
   "metadata": {
    "ExecuteTime": {
     "end_time": "2021-05-17T12:46:11.762976Z",
     "start_time": "2021-05-17T12:46:11.431007Z"
    }
   },
   "outputs": [],
   "source": [
    "validate_df = transform(syntanic_df, titanic_df)\n",
    "validate_df.head()"
   ]
  },
  {
   "cell_type": "code",
   "execution_count": null,
   "metadata": {
    "ExecuteTime": {
     "end_time": "2021-05-17T12:46:11.794745Z",
     "start_time": "2021-05-17T12:46:11.765620Z"
    }
   },
   "outputs": [],
   "source": [
    "validate_df.isna().sum()"
   ]
  },
  {
   "cell_type": "code",
   "execution_count": null,
   "metadata": {
    "ExecuteTime": {
     "end_time": "2021-05-17T12:46:13.227456Z",
     "start_time": "2021-05-17T12:46:11.796375Z"
    }
   },
   "outputs": [],
   "source": [
    "rf_clf = RandomForestClassifier()\n",
    "rf_clf.fit(train_df.drop('Survived', axis=1), train_df['Survived'])\n",
    "validate_df['Prediction_Survived'] = rf_clf.predict_proba(validate_df.drop('Survived', axis=1))[:, 1]\n",
    "validate_df.head()"
   ]
  },
  {
   "cell_type": "code",
   "execution_count": null,
   "metadata": {
    "ExecuteTime": {
     "end_time": "2021-05-17T12:46:13.243457Z",
     "start_time": "2021-05-17T12:46:13.229455Z"
    }
   },
   "outputs": [],
   "source": [
    "validate_df.to_pickle('data/rf_predictions.pkl')"
   ]
  },
  {
   "cell_type": "code",
   "execution_count": null,
   "metadata": {
    "ExecuteTime": {
     "end_time": "2021-05-17T12:46:13.527685Z",
     "start_time": "2021-05-17T12:46:13.245453Z"
    }
   },
   "outputs": [],
   "source": [
    "lr_clf = LogisticRegression()\n",
    "lr_clf.fit(train_df.drop('Survived', axis=1), train_df['Survived'])\n",
    "validate_df['Prediction_Survived'] = lr_clf.predict_proba(validate_df.drop(['Survived', 'Prediction_Survived'], axis=1))[:, 1]\n",
    "validate_df.head()"
   ]
  },
  {
   "cell_type": "code",
   "execution_count": null,
   "metadata": {
    "ExecuteTime": {
     "end_time": "2021-05-17T12:46:13.590721Z",
     "start_time": "2021-05-17T12:46:13.530685Z"
    }
   },
   "outputs": [],
   "source": [
    "validate_df.to_pickle('data/lr_predictions.pkl')"
   ]
  },
  {
   "cell_type": "code",
   "execution_count": null,
   "metadata": {
    "ExecuteTime": {
     "end_time": "2021-05-17T12:46:13.701686Z",
     "start_time": "2021-05-17T12:46:13.592683Z"
    }
   },
   "outputs": [],
   "source": [
    "# np.percentile(validate_df['Prediction_Survived'], np.array([i*5 for i in range(20)]))"
   ]
  },
  {
   "cell_type": "code",
   "execution_count": null,
   "metadata": {
    "ExecuteTime": {
     "end_time": "2021-05-17T13:03:58.163274Z",
     "start_time": "2021-05-17T13:03:58.153268Z"
    }
   },
   "outputs": [],
   "source": [
    "# def calculate_ks_scores(df, threshold=0.5):\n",
    "#     df = df.copy()\n",
    "#     df['Ventile'] = pd.qcut(df['Prediction_Survived'], 20, labels=False)\n",
    "#     df['Prediction_Survived'] = (df['Prediction_Survived'] > threshold).astype('int')\n",
    "#     df = df.groupby('Ventile')['Prediction_Survived'].agg(['count', 'sum'])\n",
    "#     df.columns = ['total', 'target']\n",
    "#     df['non_target'] = df['total'] - df['target']\n",
    "#     df['perc_total_cum'] = df['total'].cumsum() / df['total'].sum()\n",
    "#     df['perc_target_cum'] = df['target'].cumsum() / df['target'].sum()\n",
    "#     df['perc_non_target_cum'] = df['non_target'].cumsum() / df['non_target'].sum()\n",
    "#     df['ks'] = (df['perc_target_cum'] - df['perc_non_target_cum']).apply(abs)\n",
    "#     return df"
   ]
  },
  {
   "cell_type": "code",
   "execution_count": null,
   "metadata": {
    "ExecuteTime": {
     "end_time": "2021-05-17T13:04:00.065805Z",
     "start_time": "2021-05-17T13:03:58.590679Z"
    }
   },
   "outputs": [],
   "source": [
    "# calculate_ks_scores(validate_df)"
   ]
  },
  {
   "cell_type": "code",
   "execution_count": null,
   "metadata": {},
   "outputs": [],
   "source": []
  }
 ],
 "metadata": {
  "kernelspec": {
   "display_name": "Python 3",
   "language": "python",
   "name": "python3"
  },
  "language_info": {
   "codemirror_mode": {
    "name": "ipython",
    "version": 3
   },
   "file_extension": ".py",
   "mimetype": "text/x-python",
   "name": "python",
   "nbconvert_exporter": "python",
   "pygments_lexer": "ipython3",
   "version": "3.7.3"
  },
  "toc": {
   "base_numbering": 1,
   "nav_menu": {},
   "number_sections": true,
   "sideBar": true,
   "skip_h1_title": false,
   "title_cell": "Table of Contents",
   "title_sidebar": "Contents",
   "toc_cell": false,
   "toc_position": {},
   "toc_section_display": true,
   "toc_window_display": false
  }
 },
 "nbformat": 4,
 "nbformat_minor": 2
}
